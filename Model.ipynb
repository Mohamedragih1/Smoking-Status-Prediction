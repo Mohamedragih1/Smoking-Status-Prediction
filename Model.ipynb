{
  "nbformat": 4,
  "nbformat_minor": 0,
  "metadata": {
    "colab": {
      "provenance": [],
      "include_colab_link": true
    },
    "kernelspec": {
      "name": "python3",
      "display_name": "Python 3"
    },
    "language_info": {
      "name": "python"
    }
  },
  "cells": [
    {
      "cell_type": "markdown",
      "metadata": {
        "id": "view-in-github",
        "colab_type": "text"
      },
      "source": [
        "<a href=\"https://colab.research.google.com/github/Mohamedragih1/Smoking-Status-Prediction/blob/main/Model.ipynb\" target=\"_parent\"><img src=\"https://colab.research.google.com/assets/colab-badge.svg\" alt=\"Open In Colab\"/></a>"
      ]
    },
    {
      "cell_type": "markdown",
      "source": [
        "# Importing essential libraries"
      ],
      "metadata": {
        "id": "_aat7J7jCY-u"
      }
    },
    {
      "cell_type": "code",
      "source": [
        "!pip install scikit-optimize"
      ],
      "metadata": {
        "id": "kL8nmIFRqQSS",
        "colab": {
          "base_uri": "https://localhost:8080/"
        },
        "outputId": "615c3225-e89f-409f-c4bd-83a103be1cdf"
      },
      "execution_count": null,
      "outputs": [
        {
          "output_type": "stream",
          "name": "stdout",
          "text": [
            "Collecting scikit-optimize\n",
            "  Downloading scikit_optimize-0.9.0-py2.py3-none-any.whl (100 kB)\n",
            "\u001b[?25l     \u001b[90m━━━━━━━━━━━━━━━━━━━━━━━━━━━━━━━━━━━━━━━━\u001b[0m \u001b[32m0.0/100.3 kB\u001b[0m \u001b[31m?\u001b[0m eta \u001b[36m-:--:--\u001b[0m\r\u001b[2K     \u001b[90m━━━━━━━━━━━━━━━━━━━━━━━━━━━━━━━━━━━━━━━━\u001b[0m \u001b[32m100.3/100.3 kB\u001b[0m \u001b[31m3.0 MB/s\u001b[0m eta \u001b[36m0:00:00\u001b[0m\n",
            "\u001b[?25hRequirement already satisfied: joblib>=0.11 in /usr/local/lib/python3.10/dist-packages (from scikit-optimize) (1.3.2)\n",
            "Collecting pyaml>=16.9 (from scikit-optimize)\n",
            "  Downloading pyaml-23.9.7-py3-none-any.whl (23 kB)\n",
            "Requirement already satisfied: numpy>=1.13.3 in /usr/local/lib/python3.10/dist-packages (from scikit-optimize) (1.23.5)\n",
            "Requirement already satisfied: scipy>=0.19.1 in /usr/local/lib/python3.10/dist-packages (from scikit-optimize) (1.11.4)\n",
            "Requirement already satisfied: scikit-learn>=0.20.0 in /usr/local/lib/python3.10/dist-packages (from scikit-optimize) (1.2.2)\n",
            "Requirement already satisfied: PyYAML in /usr/local/lib/python3.10/dist-packages (from pyaml>=16.9->scikit-optimize) (6.0.1)\n",
            "Requirement already satisfied: threadpoolctl>=2.0.0 in /usr/local/lib/python3.10/dist-packages (from scikit-learn>=0.20.0->scikit-optimize) (3.2.0)\n",
            "Installing collected packages: pyaml, scikit-optimize\n",
            "Successfully installed pyaml-23.9.7 scikit-optimize-0.9.0\n"
          ]
        }
      ]
    },
    {
      "cell_type": "code",
      "source": [
        "import pandas as pd\n",
        "import numpy as np\n",
        "import matplotlib.pyplot as plt\n",
        "import seaborn as sns\n",
        "from sklearn.metrics import accuracy_score, classification_report, confusion_matrix, make_scorer\n",
        "from sklearn.tree import DecisionTreeClassifier\n",
        "from sklearn.preprocessing import MinMaxScaler, StandardScaler\n",
        "from sklearn.model_selection import train_test_split, GridSearchCV, RandomizedSearchCV\n",
        "from skopt import BayesSearchCV"
      ],
      "metadata": {
        "id": "zyjbs1l5IwJ7"
      },
      "execution_count": null,
      "outputs": []
    },
    {
      "cell_type": "markdown",
      "source": [
        "# Reading Data"
      ],
      "metadata": {
        "id": "o1B5Z9UzCm-f"
      }
    },
    {
      "cell_type": "code",
      "source": [
        "X_train = pd.read_csv(\"X_train.csv\")\n",
        "y_train = pd.read_csv(\"y_train.csv\")\n",
        "X_val = pd.read_csv(\"X_validate.csv\")\n",
        "y_val = pd.read_csv(\"y_validate.csv\")\n",
        "X_test = pd.read_csv(\"X_test.csv\")\n",
        "y_test = pd.read_csv(\"y_test.csv\")\n",
        "y_train = np.ravel(y_train)\n",
        "y_val = np.ravel(y_val)\n",
        "y_test = np.ravel(y_test)"
      ],
      "metadata": {
        "id": "YSe-np3Dtd44"
      },
      "execution_count": null,
      "outputs": []
    },
    {
      "cell_type": "markdown",
      "source": [
        "#Modeling"
      ],
      "metadata": {
        "id": "X2EyJz0FC1FX"
      }
    },
    {
      "cell_type": "markdown",
      "source": [
        "###Evaluate function"
      ],
      "metadata": {
        "id": "s8QJA42UC4kA"
      }
    },
    {
      "cell_type": "code",
      "source": [
        "def evaluate_model(model, X, y):\n",
        "    y_pred = model.predict(X)\n",
        "    accuracy = accuracy_score(y, y_pred)\n",
        "    return accuracy"
      ],
      "metadata": {
        "id": "-auyLVOp7Klx"
      },
      "execution_count": null,
      "outputs": []
    },
    {
      "cell_type": "markdown",
      "source": [
        "###Bagging model"
      ],
      "metadata": {
        "id": "fc-b_B24DE90"
      }
    },
    {
      "cell_type": "code",
      "source": [
        "class BaggingClassifier:\n",
        "      def __init__(self, n_estimators=10, max_features=0.5, max_depth=5):\n",
        "          self.n_estimators = n_estimators\n",
        "          self.max_features = max_features\n",
        "          self.max_depth = max_depth\n",
        "          self.estimators = []\n",
        "\n",
        "      def fit(self, X, y):\n",
        "          for _ in range(self.n_estimators):\n",
        "              indices = np.random.choice(len(X), len(X), replace=True)\n",
        "              X_bootstrap = X.iloc[indices]\n",
        "              y_bootstrap = y[indices]\n",
        "              estimator = DecisionTreeClassifier(max_features=self.max_features, max_depth=self.max_depth).fit(X_bootstrap, y_bootstrap)\n",
        "              self.estimators.append(estimator)\n",
        "\n",
        "      def predict(self, X):\n",
        "          # Make predictions using all the base classifiers\n",
        "          predictions = [estimator.predict(X) for estimator in self.estimators]\n",
        "          # Aggregate predictions using majority voting\n",
        "          majority_votes = np.apply_along_axis(lambda x: np.bincount(x).argmax(), axis=0, arr=predictions)\n",
        "\n",
        "          return majority_votes\n",
        "\n",
        "      def get_params(self, deep=True):\n",
        "          return {\n",
        "              'n_estimators': self.n_estimators,\n",
        "              'max_features': self.max_features,\n",
        "              'max_depth': self.max_depth\n",
        "          }\n",
        "\n",
        "      def set_params(self, **params):\n",
        "          for param, value in params.items():\n",
        "              setattr(self, param, value)\n",
        "          return self"
      ],
      "metadata": {
        "id": "QYrZBuHoJ2JB"
      },
      "execution_count": null,
      "outputs": []
    },
    {
      "cell_type": "code",
      "source": [
        "basic_model = DecisionTreeClassifier()\n",
        "basic_model.fit(X_train,y_train)\n",
        "prediction=basic_model.predict(X_val)\n",
        "print(f\"Accuarcy : {accuracy_score(y_val,prediction):.2%}\")"
      ],
      "metadata": {
        "colab": {
          "base_uri": "https://localhost:8080/"
        },
        "id": "Io7lP1PBd9uJ",
        "outputId": "62d65ea4-2a76-446a-a229-b977fbc59a15"
      },
      "execution_count": null,
      "outputs": [
        {
          "output_type": "stream",
          "name": "stdout",
          "text": [
            "Accuarcy : 67.10%\n"
          ]
        }
      ]
    },
    {
      "cell_type": "code",
      "source": [
        "model = BaggingClassifier(n_estimators=15, max_features = 0.7, max_depth = None)\n",
        "model.fit(X_train,y_train)\n",
        "prediction=model.predict(X_val)\n",
        "print(f\"Accuarcy : {accuracy_score(y_val,prediction):.2%}\")"
      ],
      "metadata": {
        "colab": {
          "base_uri": "https://localhost:8080/"
        },
        "id": "Xu4vRSh6d4DM",
        "outputId": "482fdfae-5d3a-4645-cba8-23ff49583c8a"
      },
      "execution_count": null,
      "outputs": [
        {
          "output_type": "stream",
          "name": "stdout",
          "text": [
            "Accuarcy : 72.72%\n"
          ]
        }
      ]
    },
    {
      "cell_type": "markdown",
      "source": [
        "###AdaBoost model"
      ],
      "metadata": {
        "id": "DxQAjPt4DMw0"
      }
    },
    {
      "cell_type": "code",
      "source": [
        "class AdaBoostClassifier:\n",
        "    def __init__(self, n_estimators, learning_rate):\n",
        "        self.n_estimators = n_estimators\n",
        "        self.learning_rate = learning_rate\n",
        "        self.estimators = []\n",
        "        self.weights = []\n",
        "\n",
        "    def fit(self, X, y):\n",
        "        self.weights = np.ones(len(X)) / len(X)\n",
        "        for _ in range(self.n_estimators):\n",
        "            estimator = DecisionTreeClassifier(max_depth=5).fit(X, y, sample_weight=self.weights)\n",
        "\n",
        "            predictions = estimator.predict(X)\n",
        "            incorrect = (predictions != y)\n",
        "            error_rate = np.dot(self.weights, incorrect)\n",
        "\n",
        "            alpha = self.learning_rate * np.log((1 - error_rate) / error_rate)\n",
        "            self.estimators.append((estimator, alpha))\n",
        "\n",
        "            self.weights *= np.exp(-y * alpha * predictions)\n",
        "\n",
        "            self.weights /= np.sum(self.weights)\n",
        "\n",
        "    def predict(self, X):\n",
        "        predictions = np.empty(len(X))\n",
        "        for estimator, alpha in self.estimators:\n",
        "            predictions += alpha * estimator.predict(X)\n",
        "        return np.sign(predictions)\n",
        "\n",
        "    def get_params(self, deep=True):\n",
        "        return {'n_estimators': self.n_estimators, 'learning_rate': self.learning_rate}\n",
        "\n",
        "    def set_params(self, **params):\n",
        "        if 'n_estimators' in params:\n",
        "            self.n_estimators = params['n_estimators']\n",
        "        if 'learning_rate' in params:\n",
        "            self.learning_rate = params['learning_rate']\n",
        "        return self"
      ],
      "metadata": {
        "id": "TbhFxZBj-OVV"
      },
      "execution_count": null,
      "outputs": []
    },
    {
      "cell_type": "code",
      "source": [
        "model = AdaBoostClassifier( n_estimators = 100, learning_rate = 1.0)\n",
        "model.fit(X_train,y_train)\n",
        "prediction=model.predict(X_val)\n",
        "print(f\"Accuarcy : {accuracy_score(y_val,prediction):.2%}\")"
      ],
      "metadata": {
        "colab": {
          "base_uri": "https://localhost:8080/"
        },
        "id": "c2cQK99W-gBU",
        "outputId": "06847423-f143-4ad8-b5a2-14b48ecbf239"
      },
      "execution_count": null,
      "outputs": [
        {
          "output_type": "stream",
          "name": "stdout",
          "text": [
            "Accuarcy : 73.84%\n"
          ]
        }
      ]
    },
    {
      "cell_type": "markdown",
      "source": [
        "###Random Forest model"
      ],
      "metadata": {
        "id": "OH5Jw9E4DQbf"
      }
    },
    {
      "cell_type": "code",
      "source": [
        "class RandomForestClassifier:\n",
        "    def __init__(self, n_estimators=400, max_features='auto', max_depth=10, min_samples_split=5):\n",
        "        self.n_estimators = n_estimators\n",
        "        self.max_features = max_features\n",
        "        self.min_samples_split = min_samples_split\n",
        "        self.max_depth = max_depth\n",
        "        self.estimators = []\n",
        "\n",
        "    def fit(self, X, y):\n",
        "        for _ in range(self.n_estimators):\n",
        "            indices = np.random.choice(len(X), len(X), replace=True)\n",
        "            X_bootstrap = X.iloc[indices]\n",
        "            y_bootstrap = y[indices]\n",
        "            estimator = DecisionTreeClassifier(max_features=self.max_features, max_depth=self.max_depth, min_samples_split = self.min_samples_split).fit(X_bootstrap, y_bootstrap)\n",
        "            self.estimators.append(estimator)\n",
        "\n",
        "    def predict(self, X):\n",
        "        predictions = [estimator.predict(X) for estimator in self.estimators]\n",
        "        majority_votes = np.apply_along_axis(lambda x: np.bincount(x).argmax(), axis=0, arr=predictions)\n",
        "        return majority_votes\n",
        "\n",
        "    def get_params(self, deep=True):\n",
        "        return {\n",
        "            'n_estimators': self.n_estimators,\n",
        "            'max_features': self.max_features,\n",
        "            'min_samples_split': self.min_samples_split,\n",
        "            'max_depth': self.max_depth\n",
        "        }\n",
        "\n",
        "    def set_params(self, **params):\n",
        "        for param, value in params.items():\n",
        "            setattr(self, param, value)\n",
        "        return self"
      ],
      "metadata": {
        "id": "VnO_5b5gBgKt"
      },
      "execution_count": null,
      "outputs": []
    },
    {
      "cell_type": "code",
      "source": [
        "model = RandomForestClassifier(n_estimators=200, max_features=0.7, max_depth=20, min_samples_split=10)\n",
        "model.fit(X_train,y_train)\n",
        "prediction=model.predict(X_val)\n",
        "print(f\"Accuarcy : {accuracy_score(y_val,prediction):.2%}\")"
      ],
      "metadata": {
        "colab": {
          "base_uri": "https://localhost:8080/"
        },
        "id": "npVgTtfFBwYb",
        "outputId": "f057e93b-021d-44c0-fbda-b7a4ae609154"
      },
      "execution_count": null,
      "outputs": [
        {
          "output_type": "stream",
          "name": "stdout",
          "text": [
            "Accuarcy : 74.98%\n"
          ]
        }
      ]
    },
    {
      "cell_type": "markdown",
      "source": [
        "# Hyperparameters Tuning"
      ],
      "metadata": {
        "id": "vghGkfJ8EgPF"
      }
    },
    {
      "cell_type": "markdown",
      "source": [
        "## Grid Search"
      ],
      "metadata": {
        "id": "EhWxmBUrFykN"
      }
    },
    {
      "cell_type": "code",
      "source": [
        "def gridSearch(model, param_grid, X, y):\n",
        "    score = make_scorer(accuracy_score)\n",
        "    grid_search = GridSearchCV(model, param_grid, cv=5, n_jobs=-1, scoring=score)\n",
        "    grid_search.fit(X, y)\n",
        "    return grid_search.best_estimator_"
      ],
      "metadata": {
        "id": "-4edBhGmF2v3"
      },
      "execution_count": null,
      "outputs": []
    },
    {
      "cell_type": "markdown",
      "source": [
        "## Bagging"
      ],
      "metadata": {
        "id": "KhRRoxbPFmUT"
      }
    },
    {
      "cell_type": "code",
      "source": [
        "param_grid = {\n",
        "    'n_estimators': [20, 50, 100, 200],\n",
        "    'max_features': [None, 0.5, 0.7],\n",
        "    'base_estimator__max_depth': [3, 7, 10]\n",
        "}\n",
        "\n",
        "model = BaggingClassifier()\n",
        "best_model = gridSearch(model, param_grid, X_train, y_train)\n",
        "\n",
        "# Hyperparameter tuning\n",
        "print(f\"Bagging best parameters in Grid Search: {best_model.get_params()}\")"
      ],
      "metadata": {
        "colab": {
          "base_uri": "https://localhost:8080/"
        },
        "id": "fCJInYknZ_RL",
        "outputId": "cd549734-a1d7-4bfa-93d1-75a7f3d8fae2"
      },
      "execution_count": null,
      "outputs": [
        {
          "output_type": "stream",
          "name": "stdout",
          "text": [
            "Bagging best parameters in Grid Search: {'n_estimators': 200, 'max_features': 0.7, 'max_depth': 5}\n"
          ]
        }
      ]
    },
    {
      "cell_type": "code",
      "source": [
        "model = BaggingClassifier(n_estimators = 200, max_features = 0.7, max_depth = 5)\n",
        "model.fit(X_train,y_train)\n",
        "prediction=model.predict(X_val)\n",
        "print(f\"Accuarcy after Grid Search: {accuracy_score(y_val,prediction):.2%}\")"
      ],
      "metadata": {
        "colab": {
          "base_uri": "https://localhost:8080/"
        },
        "id": "PxE2b_aVI6dr",
        "outputId": "4f455ce4-0d5b-49c1-cc4f-5daf2754dae4"
      },
      "execution_count": null,
      "outputs": [
        {
          "output_type": "stream",
          "name": "stdout",
          "text": [
            "Accuarcy after Grid Search: 73.50%\n"
          ]
        }
      ]
    },
    {
      "cell_type": "markdown",
      "source": [
        "##Boosting"
      ],
      "metadata": {
        "id": "eEK5VTD0ZHYq"
      }
    },
    {
      "cell_type": "code",
      "source": [
        "param_grid = {\n",
        "    'n_estimators': [100, 200, 300, 400, 500],\n",
        "    'learning_rate': [0.01, 0.1, 1.0]\n",
        "}\n",
        "model = AdaBoostClassifier()\n",
        "best_model = gridSearch(model, param_grid, X_train, y_train)\n",
        "\n",
        "# Hyperparameter tuning\n",
        "print(f\"Boosting best parameters in Grid Search: {best_model.best_estimator_}\")"
      ],
      "metadata": {
        "colab": {
          "base_uri": "https://localhost:8080/"
        },
        "id": "CsqAkgLlJx6f",
        "outputId": "25ae41e9-9872-4d9c-e283-f511bc7d408e"
      },
      "execution_count": null,
      "outputs": [
        {
          "output_type": "stream",
          "name": "stdout",
          "text": [
            "Boosting best parameters in Grid Search: AdaBoostClassifier(n_estimators=500)\n"
          ]
        }
      ]
    },
    {
      "cell_type": "code",
      "source": [
        "model =AdaBoostClassifier(n_estimators = 500, learning_rate = 1.0)\n",
        "model.fit(X_train,y_train)\n",
        "prediction=model.predict(X_val)\n",
        "print(f\"Accuarcy after Grid Search: {accuracy_score(y_val,prediction):.2%}\")"
      ],
      "metadata": {
        "colab": {
          "base_uri": "https://localhost:8080/"
        },
        "id": "yKVnRf3zM1Ol",
        "outputId": "aea33e79-edee-462d-e2eb-2ef35ca50d48"
      },
      "execution_count": null,
      "outputs": [
        {
          "output_type": "stream",
          "name": "stdout",
          "text": [
            "Accuarcy after Grid Search: 74.57%\n"
          ]
        }
      ]
    },
    {
      "cell_type": "markdown",
      "source": [
        "##Random Forest"
      ],
      "metadata": {
        "id": "i-54AolsZKG7"
      }
    },
    {
      "cell_type": "code",
      "source": [
        "param_grid = {\n",
        "    'n_estimators': [100, 200, 300, 400, 500],\n",
        "    'max_features': ['auto', 0.5, 0.7],\n",
        "    'max_depth': [10, 15, 20, 30, 40, 50],\n",
        "    'min_samples_split': [2, 5, 10]\n",
        "}\n",
        "\n",
        "model = RandomForestClassifier()\n",
        "best_model = gridSearch(model, param_grid, X_train, y_train)\n",
        "\n",
        "# Hyperparameter tuning\n",
        "print(f\"Random Forest best parameters in Grid Search: {best_model.get_params()}\")"
      ],
      "metadata": {
        "id": "f9VROa5w7AUh",
        "colab": {
          "base_uri": "https://localhost:8080/"
        },
        "outputId": "0be520a0-bba6-45ef-f0c9-eaf4ec64d67c"
      },
      "execution_count": null,
      "outputs": [
        {
          "output_type": "stream",
          "name": "stdout",
          "text": [
            "Random Forest best parameters in Grid Search: {'n_estimators': 500, 'max_features': 0.7, 'min_samples_split': 10, 'max_depth': 20}\n"
          ]
        }
      ]
    },
    {
      "cell_type": "code",
      "source": [
        "model =RandomForestClassifier(n_estimators = 500, max_features = 0.7, min_samples_split = 10, max_depth = 20)\n",
        "model.fit(X_train,y_train)\n",
        "prediction=model.predict(X_val)\n",
        "print(f\"Accuarcy after Grid Search: {accuracy_score(y_val,prediction):.2%}\")"
      ],
      "metadata": {
        "colab": {
          "base_uri": "https://localhost:8080/"
        },
        "id": "3mg4YVbwfRui",
        "outputId": "3e888d85-7485-46d1-b041-094626820643"
      },
      "execution_count": null,
      "outputs": [
        {
          "output_type": "stream",
          "name": "stdout",
          "text": [
            "Accuarcy after Grid Search: 74.94%\n"
          ]
        }
      ]
    },
    {
      "cell_type": "markdown",
      "source": [
        "## Randomized Search"
      ],
      "metadata": {
        "id": "_l_Tl85PZO9G"
      }
    },
    {
      "cell_type": "code",
      "source": [
        "def randomizedSearch(model, param_distributions, X, y):\n",
        "    score = make_scorer(accuracy_score)\n",
        "    randomized_search = RandomizedSearchCV(model, param_distributions, n_iter=1, cv=5, n_jobs=-1, random_state=42, scoring=score)\n",
        "    randomized_search.fit(X, y)\n",
        "    return randomized_search.best_estimator_"
      ],
      "metadata": {
        "id": "ZKno6Xd1cD1Q"
      },
      "execution_count": null,
      "outputs": []
    },
    {
      "cell_type": "markdown",
      "source": [
        "##Bagging"
      ],
      "metadata": {
        "id": "6GI-8_TAcL3C"
      }
    },
    {
      "cell_type": "code",
      "source": [
        "param_grid = {\n",
        "    'n_estimators': [20, 50, 100, 200],\n",
        "    'max_features': [None, 0.5, 0.7],\n",
        "    'base_estimator__max_depth': [3, 7, 10]\n",
        "}\n",
        "\n",
        "model = BaggingClassifier()\n",
        "best_model = randomizedSearch(model, param_grid, X_train, y_train)\n",
        "\n",
        "# Hyperparameter tuning\n",
        "print(f\"Bagging best parameters in Randomized Search: {best_model.get_params()}\")"
      ],
      "metadata": {
        "colab": {
          "base_uri": "https://localhost:8080/"
        },
        "id": "KTNVS5YVcFmD",
        "outputId": "13ca66d3-c8ba-41c4-b27b-6404dce3f3a5"
      },
      "execution_count": null,
      "outputs": [
        {
          "output_type": "stream",
          "name": "stdout",
          "text": [
            "Bagging best parameters in Randomized Search: {'n_estimators': 100, 'max_features': 0.7, 'max_depth': 5}\n"
          ]
        }
      ]
    },
    {
      "cell_type": "code",
      "source": [
        "model = BaggingClassifier(n_estimators = 100, max_features = 0.7, max_depth = 5)\n",
        "model.fit(X_train,y_train)\n",
        "prediction=model.predict(X_val)\n",
        "print(f\"Accuarcy after Randomized Search: {accuracy_score(y_val,prediction):.2%}\")"
      ],
      "metadata": {
        "colab": {
          "base_uri": "https://localhost:8080/"
        },
        "id": "cBMQQuoudBcJ",
        "outputId": "04b0a0f9-cc67-4476-a10c-e6942efb845e"
      },
      "execution_count": null,
      "outputs": [
        {
          "output_type": "stream",
          "name": "stdout",
          "text": [
            "Accuarcy after Randomized Search: 73.62%\n"
          ]
        }
      ]
    },
    {
      "cell_type": "markdown",
      "source": [
        "##Boosting"
      ],
      "metadata": {
        "id": "RVU-sSPvdppW"
      }
    },
    {
      "cell_type": "code",
      "source": [
        "param_grid = {\n",
        "    'n_estimators': [100, 200, 300, 400, 500],\n",
        "    'learning_rate': [0.01, 0.1, 1.0]\n",
        "}\n",
        "model = AdaBoostClassifier()\n",
        "best_model = randomizedSearch(model, param_grid, X_train, y_train)\n",
        "\n",
        "# Hyperparameter tuning\n",
        "print(f\"Boosting best parameters in Randomized Search: {best_model.best_estimator_}\")"
      ],
      "metadata": {
        "colab": {
          "base_uri": "https://localhost:8080/"
        },
        "id": "iVXdkH_Ej2U7",
        "outputId": "2d6697b2-118c-45e4-9bdd-8307b297ba73"
      },
      "execution_count": null,
      "outputs": [
        {
          "output_type": "stream",
          "name": "stdout",
          "text": [
            "Boosting best parameters in Randomized Search: AdaBoostClassifier(n_estimators=100)\n"
          ]
        }
      ]
    },
    {
      "cell_type": "code",
      "source": [
        "model =AdaBoostClassifier(n_estimators = 100, learning_rate = 1.0)\n",
        "model.fit(X_train,y_train)\n",
        "prediction=model.predict(X_val)\n",
        "print(f\"Accuarcy after Randomized Search: {accuracy_score(y_val,prediction):.2%}\")"
      ],
      "metadata": {
        "colab": {
          "base_uri": "https://localhost:8080/"
        },
        "id": "WYMoaS6YoGH8",
        "outputId": "1437ba2b-c8d6-4338-b6d8-5c8a18ebeafd"
      },
      "execution_count": null,
      "outputs": [
        {
          "output_type": "stream",
          "name": "stdout",
          "text": [
            "Accuarcy after Randomized Search: 74.21%\n"
          ]
        }
      ]
    },
    {
      "cell_type": "markdown",
      "source": [
        "##Random Forest"
      ],
      "metadata": {
        "id": "q49mmxoFdr1H"
      }
    },
    {
      "cell_type": "code",
      "source": [
        "param_grid = {\n",
        "    'n_estimators': [200, 300, 400, 500, 600],\n",
        "    'max_features': ['auto', 0.5, 0.7],\n",
        "    'max_depth': [15, 20, 30, 40],\n",
        "    'min_samples_split': [5, 10, 15, 20]\n",
        "}\n",
        "\n",
        "model = RandomForestClassifier()\n",
        "best_model = randomizedSearch(model, param_grid, X_train, y_train)\n",
        "\n",
        "# Hyperparameter tuning\n",
        "print(f\"Random Forest best parameters in Randomized Search: {best_model.get_params()}\")"
      ],
      "metadata": {
        "id": "uqclBjQ4eLyB"
      },
      "execution_count": null,
      "outputs": []
    },
    {
      "cell_type": "code",
      "source": [
        "print(f\"Random Forest best parameters in Randomized Search: {best_model.get_params()}\")"
      ],
      "metadata": {
        "colab": {
          "base_uri": "https://localhost:8080/"
        },
        "id": "MWTQ4aJyin9E",
        "outputId": "53ea6f9c-20d5-4921-f074-19fec09843f0"
      },
      "execution_count": null,
      "outputs": [
        {
          "output_type": "stream",
          "name": "stdout",
          "text": [
            "Random Forest best parameters in Randomized Search: {'n_estimators': 600, 'max_features': 'auto', 'min_samples_split': 20, 'max_depth': 30}\n"
          ]
        }
      ]
    },
    {
      "cell_type": "code",
      "source": [
        "print(f\"Random Forest best parameters in Randomized Search: {best_model.get_params()}\")\n",
        "model =RandomForestClassifier(n_estimators = 600, max_features = 'auto', min_samples_split = 20, max_depth = 30)\n",
        "model.fit(X_train,y_train)\n",
        "prediction=model.predict(X_val)\n",
        "print(f\"Accuarcy after randomized Search: {accuracy_score(y_val,prediction):.2%}\")"
      ],
      "metadata": {
        "id": "HUuIT8y3eTqE"
      },
      "execution_count": null,
      "outputs": []
    },
    {
      "cell_type": "code",
      "source": [
        "print(f\"Accuarcy after randomized Search: {accuracy_score(y_val,prediction):.2%}\")"
      ],
      "metadata": {
        "colab": {
          "base_uri": "https://localhost:8080/"
        },
        "id": "pBL8OvjLjkQU",
        "outputId": "efc3eb86-727e-46fe-b106-f23d9e8d025c"
      },
      "execution_count": null,
      "outputs": [
        {
          "output_type": "stream",
          "name": "stdout",
          "text": [
            "Accuarcy after randomized Search: 74.95%\n"
          ]
        }
      ]
    },
    {
      "cell_type": "markdown",
      "source": [
        "## Bayes Search"
      ],
      "metadata": {
        "id": "AhdXD9aJqX-S"
      }
    },
    {
      "cell_type": "code",
      "source": [
        "def bayesianSearch(model, search_space, X, y):\n",
        "    bayes_search = BayesSearchCV(model, search_space, n_iter=1, cv=5, random_state=42, n_jobs=-1, scoring='accuracy' )\n",
        "    bayes_search.fit(X, y)\n",
        "    return bayes_search.best_estimator_, bayes_search.best_params_"
      ],
      "metadata": {
        "id": "XCy3SRmPoz8T"
      },
      "execution_count": null,
      "outputs": []
    },
    {
      "cell_type": "markdown",
      "source": [
        "##Bagging"
      ],
      "metadata": {
        "id": "MzoH5azVqwCV"
      }
    },
    {
      "cell_type": "code",
      "source": [
        "param_grid = {\n",
        "    'n_estimators': [50, 100, 200, 500],\n",
        "    'max_features': [0.5, 0.7, 0.9],\n",
        "    'base_estimator__max_depth': [5, 10, 20]\n",
        "}"
      ],
      "metadata": {
        "id": "-k6bgLiqqiuF"
      },
      "execution_count": null,
      "outputs": []
    },
    {
      "cell_type": "code",
      "source": [
        "model = BaggingClassifier()\n",
        "\n",
        "# Perform hyperparameter tuning using Bayesian optimization\n",
        "bayes_model, model_params = bayesianSearch(model, param_grid, X_train, y_train)\n",
        "\n",
        "# Print the best parameters found for Bagging Classifier\n",
        "print(\"Best parameters of Bagging :\",model_params)"
      ],
      "metadata": {
        "colab": {
          "base_uri": "https://localhost:8080/"
        },
        "id": "YWSet1I_qvTc",
        "outputId": "1cc04841-9481-419b-afeb-1e60c1cb795a"
      },
      "execution_count": null,
      "outputs": [
        {
          "output_type": "stream",
          "name": "stdout",
          "text": [
            "Best parameters of Bagging : OrderedDict([('base_estimator__max_depth', 20), ('max_features', 0.7), ('n_estimators', 200)])\n"
          ]
        }
      ]
    },
    {
      "cell_type": "code",
      "source": [
        "score = evaluate_model(bayes_model, X_val, y_val)\n",
        "print(f\"Bagging after Bayes  Search: {score:.2%}\")"
      ],
      "metadata": {
        "colab": {
          "base_uri": "https://localhost:8080/"
        },
        "id": "nqhkPhfotuAe",
        "outputId": "7fd3bafa-c521-40dd-ba88-dd7103c475ee"
      },
      "execution_count": null,
      "outputs": [
        {
          "output_type": "stream",
          "name": "stdout",
          "text": [
            "Bagging after Bayes  Search: 73.58%\n"
          ]
        }
      ]
    },
    {
      "cell_type": "markdown",
      "source": [
        "## Boosting"
      ],
      "metadata": {
        "id": "mA4_ybyZ_u-M"
      }
    },
    {
      "cell_type": "code",
      "source": [
        "param_grid = {\n",
        "    'n_estimators': [100, 200, 300, 400, 500],\n",
        "    'learning_rate': [0.01, 0.1, 1.0]\n",
        "}"
      ],
      "metadata": {
        "id": "DAwbuRtJ_xl7"
      },
      "execution_count": null,
      "outputs": []
    },
    {
      "cell_type": "code",
      "source": [
        "model = AdaBoostClassifier()\n",
        "\n",
        "# Perform hyperparameter tuning using Bayesian optimization\n",
        "bayes_model, model_params = bayesianSearch(model, param_grid, X_train, y_train)\n",
        "\n",
        "# Print the best parameters found for Bagging Classifier\n",
        "print(\"Best parameters of Boosting :\",model_params)"
      ],
      "metadata": {
        "colab": {
          "base_uri": "https://localhost:8080/"
        },
        "id": "3XUwmvCW_9O8",
        "outputId": "5b9e5d90-8953-4902-d0de-a58f5bf3c68a"
      },
      "execution_count": null,
      "outputs": [
        {
          "output_type": "stream",
          "name": "stdout",
          "text": [
            "Best parameters of Boosting : OrderedDict([('learning_rate', 1.0), ('n_estimators', 200)])\n"
          ]
        }
      ]
    },
    {
      "cell_type": "code",
      "source": [
        "score = evaluate_model(bayes_model, X_val, y_val)\n",
        "print(f\"Boosting after Bayes  Search: {score:.2%}\")"
      ],
      "metadata": {
        "colab": {
          "base_uri": "https://localhost:8080/"
        },
        "id": "o-4udHPvAEOo",
        "outputId": "191761ae-c58b-42dc-c34d-1b3b94aaf1fa"
      },
      "execution_count": null,
      "outputs": [
        {
          "output_type": "stream",
          "name": "stdout",
          "text": [
            "Boosting after Bayes  Search: 74.48%\n"
          ]
        }
      ]
    },
    {
      "cell_type": "markdown",
      "source": [
        "##Random Forest"
      ],
      "metadata": {
        "id": "uS-_wasv21op"
      }
    },
    {
      "cell_type": "code",
      "source": [
        "param_grid = {\n",
        "    'n_estimators': [200, 300, 400, 500],\n",
        "    'max_features': [0.5, 0.7, 0.9],\n",
        "    'max_depth': [15, 20, 30, 40],\n",
        "    'min_samples_split': [5, 10, 15, 20]\n",
        "}"
      ],
      "metadata": {
        "id": "-f4k9lCJ20eD"
      },
      "execution_count": null,
      "outputs": []
    },
    {
      "cell_type": "code",
      "source": [
        "model = RandomForestClassifier()\n",
        "\n",
        "# Perform hyperparameter tuning using Bayesian optimization\n",
        "bayes_model, model_params = bayesianSearch(model, param_grid, X_train, y_train)"
      ],
      "metadata": {
        "colab": {
          "base_uri": "https://localhost:8080/"
        },
        "id": "yCRZZ6gk2-Lr",
        "outputId": "8d0f9a76-f2ff-4db3-e9b2-1e33dd39d097"
      },
      "execution_count": null,
      "outputs": [
        {
          "output_type": "stream",
          "name": "stderr",
          "text": [
            "/usr/local/lib/python3.10/dist-packages/joblib/externals/loky/process_executor.py:752: UserWarning: A worker stopped while some jobs were given to the executor. This can be caused by a too short worker timeout or by a memory leak.\n",
            "  warnings.warn(\n"
          ]
        },
        {
          "output_type": "stream",
          "name": "stdout",
          "text": [
            "Best parameters of Bagging : OrderedDict([('max_depth', 30), ('max_features', 0.7), ('min_samples_split', 20), ('n_estimators', 500)])\n"
          ]
        }
      ]
    },
    {
      "cell_type": "code",
      "source": [
        "score = evaluate_model(bayes_model, X_val, y_val)\n",
        "print(f\"Random Forest after Bayes  Search: {score:.2%}\")"
      ],
      "metadata": {
        "colab": {
          "base_uri": "https://localhost:8080/"
        },
        "id": "EiXnTJAm3CQh",
        "outputId": "49fd2cd5-c915-460a-e362-f96cda0158ec"
      },
      "execution_count": null,
      "outputs": [
        {
          "output_type": "stream",
          "name": "stdout",
          "text": [
            "Best parameters of Random Forest : OrderedDict([('max_depth', 30), ('max_features', 0.7), ('min_samples_split', 20), ('n_estimators', 500)])\n",
            "Random Forest after Bayes  Search: 74.65%\n"
          ]
        }
      ]
    },
    {
      "cell_type": "markdown",
      "source": [
        "#Final System"
      ],
      "metadata": {
        "id": "xcvrgzn0A2yU"
      }
    },
    {
      "cell_type": "code",
      "source": [
        "#Random Forest with the following parameters got the largest validation accuarcy\n",
        "model =RandomForestClassifier(n_estimators = 600, max_features = 'auto', min_samples_split = 20, max_depth = 30)\n",
        "model.fit(X_train,y_train)"
      ],
      "metadata": {
        "id": "wUDvIVGeA57S"
      },
      "execution_count": null,
      "outputs": []
    },
    {
      "cell_type": "code",
      "source": [
        "#Printing final accuarcy\n",
        "prediction=model.predict(X_test)\n",
        "print(f\"Final System Accuarcy: {accuracy_score(y_test,prediction):.2%}\")"
      ],
      "metadata": {
        "colab": {
          "base_uri": "https://localhost:8080/"
        },
        "id": "oauGXWl8Btn2",
        "outputId": "53b53df6-3256-4390-8758-de4931897471"
      },
      "execution_count": null,
      "outputs": [
        {
          "output_type": "stream",
          "name": "stdout",
          "text": [
            "Final System Accuarcy: 75.02%\n"
          ]
        }
      ]
    }
  ]
}